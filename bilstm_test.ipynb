{
 "cells": [
  {
   "cell_type": "code",
   "execution_count": null,
   "id": "85153494-fb30-4e2a-a5d8-de85d994fcd3",
   "metadata": {},
   "outputs": [],
   "source": []
  }
 ],
 "metadata": {
  "kernelspec": {
   "display_name": "",
   "name": ""
  },
  "language_info": {
   "name": ""
  }
 },
 "nbformat": 4,
 "nbformat_minor": 5
}
