{
 "cells": [
  {
   "cell_type": "code",
   "execution_count": 1,
   "id": "1c0c97e1-ad69-41e2-b329-260c85cb6947",
   "metadata": {},
   "outputs": [
    {
     "name": "stdout",
     "output_type": "stream",
     "text": [
      "WARNING:tensorflow:From C:\\Users\\te20312262\\AppData\\Local\\Programs\\Python\\Python310\\lib\\site-packages\\keras\\src\\losses.py:2976: The name tf.losses.sparse_softmax_cross_entropy is deprecated. Please use tf.compat.v1.losses.sparse_softmax_cross_entropy instead.\n",
      "\n"
     ]
    }
   ],
   "source": [
    "import os\n",
    "import pandas as pd\n",
    "import numpy as np\n",
    "import matplotlib.pyplot as plt\n",
    "from keras.preprocessing.text import Tokenizer\n",
    "from keras.preprocessing.sequence import pad_sequences\n",
    "from keras.layers import Dense, Input, MaxPool1D, Embedding, GlobalMaxPool1D, Conv1D\n",
    "from keras.models import Model\n",
    "from sklearn.metrics import roc_auc_score"
   ]
  },
  {
   "cell_type": "code",
   "execution_count": 2,
   "id": "4d066e27-448a-4dea-b3df-a8ac8874be5a",
   "metadata": {},
   "outputs": [],
   "source": [
    "# some configuration\n",
    "MAX_SEQUENCE_LENGTH = 300\n",
    "MAX_VOCAB_SIZE = 20000\n",
    "EMBEDDING_DIM = 100\n",
    "VALIDATION_SPLIT = 0.2\n",
    "BATCH_SIZE = 128\n",
    "EPOCHS = 10"
   ]
  },
  {
   "cell_type": "code",
   "execution_count": 3,
   "id": "e0e466e6-2e34-4025-bbed-321c362777ec",
   "metadata": {},
   "outputs": [
    {
     "name": "stdout",
     "output_type": "stream",
     "text": [
      "loading pretrained vectors...\n",
      "Found 400000 word vectors.\n"
     ]
    }
   ],
   "source": [
    "print(\"loading pretrained vectors...\")\n",
    "word2vec ={}\n",
    "with open('glove.6B.100d.txt',encoding=\"utf-8\") as f:\n",
    "    # is just a space-seperated text file in the format:\n",
    "    # word vec[0] vec[1] vec[2]...\n",
    "    for line in f:\n",
    "        values = line.split()\n",
    "        word = values[0]\n",
    "        vec = np.asarray(values[1:], dtype =\"float32\")\n",
    "        word2vec[word] = vec\n",
    "    print(\"Found %s word vectors.\" % len(word2vec))"
   ]
  },
  {
   "cell_type": "code",
   "execution_count": 4,
   "id": "bbd42155-0700-4f49-9c53-d1b8f5942a6b",
   "metadata": {},
   "outputs": [
    {
     "name": "stdout",
     "output_type": "stream",
     "text": [
      "loading in comments...\n"
     ]
    }
   ],
   "source": [
    "print('loading in comments...')"
   ]
  },
  {
   "cell_type": "code",
   "execution_count": 5,
   "id": "45ebebe9-02f0-4a6f-95ba-0f811979897b",
   "metadata": {},
   "outputs": [],
   "source": [
    "train = pd.read_csv(\"toxic_comment_train.csv\")"
   ]
  },
  {
   "cell_type": "code",
   "execution_count": 6,
   "id": "64fc5876-ca4b-45e8-b5bc-f5c6c8bb994c",
   "metadata": {},
   "outputs": [],
   "source": [
    "sentences = train[\"comment_text\"].fillna(\"DUMMY_VALUE\").values"
   ]
  },
  {
   "cell_type": "code",
   "execution_count": 7,
   "id": "707dc3b0-b243-46be-83ec-5a6c9d24431d",
   "metadata": {},
   "outputs": [],
   "source": [
    "possible_labels = train.columns[2:]"
   ]
  },
  {
   "cell_type": "code",
   "execution_count": 8,
   "id": "83332ef3-ae7c-4348-bc7f-07ff6f39aa56",
   "metadata": {},
   "outputs": [
    {
     "data": {
      "text/html": [
       "<div>\n",
       "<style scoped>\n",
       "    .dataframe tbody tr th:only-of-type {\n",
       "        vertical-align: middle;\n",
       "    }\n",
       "\n",
       "    .dataframe tbody tr th {\n",
       "        vertical-align: top;\n",
       "    }\n",
       "\n",
       "    .dataframe thead th {\n",
       "        text-align: right;\n",
       "    }\n",
       "</style>\n",
       "<table border=\"1\" class=\"dataframe\">\n",
       "  <thead>\n",
       "    <tr style=\"text-align: right;\">\n",
       "      <th></th>\n",
       "      <th>id</th>\n",
       "      <th>comment_text</th>\n",
       "      <th>toxic</th>\n",
       "      <th>severe_toxic</th>\n",
       "      <th>obscene</th>\n",
       "      <th>threat</th>\n",
       "      <th>insult</th>\n",
       "      <th>identity_hate</th>\n",
       "    </tr>\n",
       "  </thead>\n",
       "  <tbody>\n",
       "    <tr>\n",
       "      <th>0</th>\n",
       "      <td>0000997932d777bf</td>\n",
       "      <td>Explanation\\nWhy the edits made under my usern...</td>\n",
       "      <td>0</td>\n",
       "      <td>0</td>\n",
       "      <td>0</td>\n",
       "      <td>0</td>\n",
       "      <td>0</td>\n",
       "      <td>0</td>\n",
       "    </tr>\n",
       "    <tr>\n",
       "      <th>1</th>\n",
       "      <td>000103f0d9cfb60f</td>\n",
       "      <td>D'aww! He matches this background colour I'm s...</td>\n",
       "      <td>0</td>\n",
       "      <td>0</td>\n",
       "      <td>0</td>\n",
       "      <td>0</td>\n",
       "      <td>0</td>\n",
       "      <td>0</td>\n",
       "    </tr>\n",
       "    <tr>\n",
       "      <th>2</th>\n",
       "      <td>000113f07ec002fd</td>\n",
       "      <td>Hey man, I'm really not trying to edit war. It...</td>\n",
       "      <td>0</td>\n",
       "      <td>0</td>\n",
       "      <td>0</td>\n",
       "      <td>0</td>\n",
       "      <td>0</td>\n",
       "      <td>0</td>\n",
       "    </tr>\n",
       "    <tr>\n",
       "      <th>3</th>\n",
       "      <td>0001b41b1c6bb37e</td>\n",
       "      <td>\"\\nMore\\nI can't make any real suggestions on ...</td>\n",
       "      <td>0</td>\n",
       "      <td>0</td>\n",
       "      <td>0</td>\n",
       "      <td>0</td>\n",
       "      <td>0</td>\n",
       "      <td>0</td>\n",
       "    </tr>\n",
       "    <tr>\n",
       "      <th>4</th>\n",
       "      <td>0001d958c54c6e35</td>\n",
       "      <td>You, sir, are my hero. Any chance you remember...</td>\n",
       "      <td>0</td>\n",
       "      <td>0</td>\n",
       "      <td>0</td>\n",
       "      <td>0</td>\n",
       "      <td>0</td>\n",
       "      <td>0</td>\n",
       "    </tr>\n",
       "  </tbody>\n",
       "</table>\n",
       "</div>"
      ],
      "text/plain": [
       "                 id                                       comment_text  toxic  \\\n",
       "0  0000997932d777bf  Explanation\\nWhy the edits made under my usern...      0   \n",
       "1  000103f0d9cfb60f  D'aww! He matches this background colour I'm s...      0   \n",
       "2  000113f07ec002fd  Hey man, I'm really not trying to edit war. It...      0   \n",
       "3  0001b41b1c6bb37e  \"\\nMore\\nI can't make any real suggestions on ...      0   \n",
       "4  0001d958c54c6e35  You, sir, are my hero. Any chance you remember...      0   \n",
       "\n",
       "   severe_toxic  obscene  threat  insult  identity_hate  \n",
       "0             0        0       0       0              0  \n",
       "1             0        0       0       0              0  \n",
       "2             0        0       0       0              0  \n",
       "3             0        0       0       0              0  \n",
       "4             0        0       0       0              0  "
      ]
     },
     "execution_count": 8,
     "metadata": {},
     "output_type": "execute_result"
    }
   ],
   "source": [
    "train.head()"
   ]
  },
  {
   "cell_type": "code",
   "execution_count": 9,
   "id": "e67957a5-aace-43e2-88d6-a4d9206bad53",
   "metadata": {},
   "outputs": [
    {
     "data": {
      "text/plain": [
       "(159571, 8)"
      ]
     },
     "execution_count": 9,
     "metadata": {},
     "output_type": "execute_result"
    }
   ],
   "source": [
    "train.shape"
   ]
  },
  {
   "cell_type": "code",
   "execution_count": 10,
   "id": "b85a9af1-76b1-4ba2-89a8-180db6319fa6",
   "metadata": {},
   "outputs": [],
   "source": [
    "targets = train[possible_labels].values"
   ]
  },
  {
   "cell_type": "code",
   "execution_count": 11,
   "id": "a1a14703-0c96-42a1-9bcc-7ab8d7241042",
   "metadata": {},
   "outputs": [],
   "source": [
    "# convert the sentences (strings) into integers\n",
    "tokenizer = Tokenizer(num_words=MAX_VOCAB_SIZE)\n",
    "tokenizer.fit_on_texts(sentences)\n",
    "sequences = tokenizer.texts_to_sequences(sentences)"
   ]
  },
  {
   "cell_type": "code",
   "execution_count": 12,
   "id": "2a83601e-b5e2-4827-b0ad-c35689ba0d92",
   "metadata": {},
   "outputs": [
    {
     "name": "stdout",
     "output_type": "stream",
     "text": [
      "max sequence length: 1400\n",
      "min sequence length: 0\n",
      "median sequence length: 35\n",
      "max word index: 19999\n"
     ]
    }
   ],
   "source": [
    "print(\"max sequence length:\", max(len(s) for s in sequences)) \n",
    "print(\"min sequence length:\", min(len(s) for s in sequences))\n",
    "s = sorted(len(s) for s in sequences)\n",
    "print(\"median sequence length:\", s[len(s)//2])\n",
    "\n",
    "print(\"max word index:\", max(max(seq) for seq in sequences if len(seq) >0 ))"
   ]
  },
  {
   "cell_type": "code",
   "execution_count": 13,
   "id": "6191871e-3e88-4491-a649-be3cb6a3dd72",
   "metadata": {},
   "outputs": [
    {
     "name": "stdout",
     "output_type": "stream",
     "text": [
      "Found 210337 unique tokens\n"
     ]
    }
   ],
   "source": [
    "word2idx = tokenizer.index_word\n",
    "print(f\"Found {len(word2idx)} unique tokens\")"
   ]
  },
  {
   "cell_type": "code",
   "execution_count": 14,
   "id": "ca3724e4-844c-4d5f-b415-957e3ecdbe93",
   "metadata": {},
   "outputs": [
    {
     "name": "stdout",
     "output_type": "stream",
     "text": [
      "Shape of data tensor: (159571, 300)\n"
     ]
    }
   ],
   "source": [
    "data = pad_sequences(sequences,maxlen=MAX_SEQUENCE_LENGTH)\n",
    "print(\"Shape of data tensor:\",data.shape)"
   ]
  },
  {
   "cell_type": "code",
   "execution_count": 15,
   "id": "993793c6-e9c3-47f0-aa78-99383f066aa9",
   "metadata": {},
   "outputs": [
    {
     "name": "stdout",
     "output_type": "stream",
     "text": [
      "Filling pre-trained embeddings..\n"
     ]
    }
   ],
   "source": [
    "print(\"Filling pre-trained embeddings..\")\n",
    "num_words = min(MAX_VOCAB_SIZE,len(word2idx) + 1)\n",
    "embedding_matrix = np.zeros((num_words,EMBEDDING_DIM))\n",
    "for i,word in word2idx.items():\n",
    "    if i < MAX_VOCAB_SIZE:\n",
    "        embedding_vector = word2vec.get(word)\n",
    "        if embedding_vector is not None:\n",
    "            # words not found in embedding index will be all zeros.\n",
    "            embedding_matrix[i] = embedding_vector"
   ]
  },
  {
   "cell_type": "code",
   "execution_count": 16,
   "id": "2fc5724b-6951-4fb3-86f3-c9a706d29257",
   "metadata": {},
   "outputs": [
    {
     "name": "stdout",
     "output_type": "stream",
     "text": [
      "WARNING:tensorflow:From C:\\Users\\te20312262\\AppData\\Local\\Programs\\Python\\Python310\\lib\\site-packages\\keras\\src\\backend.py:873: The name tf.get_default_graph is deprecated. Please use tf.compat.v1.get_default_graph instead.\n",
      "\n"
     ]
    }
   ],
   "source": [
    "# load pre-trained word embeddings into an Embedding layer\n",
    "# note that we set trainable = False so as to keep the embeddings fixed\n",
    "embedding_layer = Embedding(\n",
    "    num_words,\n",
    "    EMBEDDING_DIM,\n",
    "    weights = [embedding_matrix],\n",
    "    input_length = MAX_SEQUENCE_LENGTH,\n",
    "    trainable = False)"
   ]
  },
  {
   "cell_type": "code",
   "execution_count": 17,
   "id": "6dbc4930-a0ff-4d21-beff-69de659055b3",
   "metadata": {},
   "outputs": [
    {
     "name": "stdout",
     "output_type": "stream",
     "text": [
      "Building model...\n",
      "WARNING:tensorflow:From C:\\Users\\te20312262\\AppData\\Local\\Programs\\Python\\Python310\\lib\\site-packages\\keras\\src\\backend.py:6642: The name tf.nn.max_pool is deprecated. Please use tf.nn.max_pool2d instead.\n",
      "\n"
     ]
    }
   ],
   "source": [
    "print(\"Building model...\")\n",
    "\n",
    "# train a 1D covnet with global maxpooling\n",
    "input_ = Input(shape=(MAX_SEQUENCE_LENGTH,))\n",
    "x = embedding_layer(input_)\n",
    "x = Conv1D(128, 3, activation='relu')(x)\n",
    "x = MaxPool1D(3)(x)\n",
    "x = Conv1D(128,3,activation=\"relu\")(x)\n",
    "x = MaxPool1D(3)(x)\n",
    "x = Conv1D(128, 3, activation='relu')(x)\n",
    "x = GlobalMaxPool1D()(x)\n",
    "x = Dense(128, activation='relu')(x)\n",
    "output = Dense(len(possible_labels), activation='sigmoid')(x)"
   ]
  },
  {
   "cell_type": "code",
   "execution_count": 18,
   "id": "a59b9567-189c-4735-8df5-6550ff2cdec2",
   "metadata": {},
   "outputs": [
    {
     "name": "stdout",
     "output_type": "stream",
     "text": [
      "WARNING:tensorflow:From C:\\Users\\te20312262\\AppData\\Local\\Programs\\Python\\Python310\\lib\\site-packages\\keras\\src\\optimizers\\__init__.py:309: The name tf.train.Optimizer is deprecated. Please use tf.compat.v1.train.Optimizer instead.\n",
      "\n",
      "Training model...\n",
      "Epoch 1/10\n",
      "WARNING:tensorflow:From C:\\Users\\te20312262\\AppData\\Local\\Programs\\Python\\Python310\\lib\\site-packages\\keras\\src\\utils\\tf_utils.py:492: The name tf.ragged.RaggedTensorValue is deprecated. Please use tf.compat.v1.ragged.RaggedTensorValue instead.\n",
      "\n",
      "WARNING:tensorflow:From C:\\Users\\te20312262\\AppData\\Local\\Programs\\Python\\Python310\\lib\\site-packages\\keras\\src\\engine\\base_layer_utils.py:384: The name tf.executing_eagerly_outside_functions is deprecated. Please use tf.compat.v1.executing_eagerly_outside_functions instead.\n",
      "\n",
      "998/998 [==============================] - 77s 76ms/step - loss: 0.0912 - accuracy: 0.9821 - val_loss: 0.0776 - val_accuracy: 0.9941\n",
      "Epoch 2/10\n",
      "998/998 [==============================] - 81s 81ms/step - loss: 0.0735 - accuracy: 0.9940 - val_loss: 0.0743 - val_accuracy: 0.9922\n",
      "Epoch 3/10\n",
      "998/998 [==============================] - 81s 81ms/step - loss: 0.0689 - accuracy: 0.9931 - val_loss: 0.0715 - val_accuracy: 0.9940\n",
      "Epoch 4/10\n",
      "998/998 [==============================] - 83s 83ms/step - loss: 0.0656 - accuracy: 0.9930 - val_loss: 0.0729 - val_accuracy: 0.9941\n",
      "Epoch 5/10\n",
      "998/998 [==============================] - 84s 85ms/step - loss: 0.0623 - accuracy: 0.9928 - val_loss: 0.0726 - val_accuracy: 0.9940\n",
      "Epoch 6/10\n",
      "998/998 [==============================] - 80s 80ms/step - loss: 0.0594 - accuracy: 0.9933 - val_loss: 0.0785 - val_accuracy: 0.9938\n",
      "Epoch 7/10\n",
      "998/998 [==============================] - 1334s 1s/step - loss: 0.0563 - accuracy: 0.9933 - val_loss: 0.0771 - val_accuracy: 0.9928\n",
      "Epoch 8/10\n",
      "998/998 [==============================] - 81s 81ms/step - loss: 0.0534 - accuracy: 0.9925 - val_loss: 0.0788 - val_accuracy: 0.9924\n",
      "Epoch 9/10\n",
      "998/998 [==============================] - 80s 80ms/step - loss: 0.0509 - accuracy: 0.9913 - val_loss: 0.0770 - val_accuracy: 0.9934\n",
      "Epoch 10/10\n",
      "998/998 [==============================] - 76s 76ms/step - loss: 0.0483 - accuracy: 0.9910 - val_loss: 0.0841 - val_accuracy: 0.9890\n"
     ]
    }
   ],
   "source": [
    "model = Model(input_, output)\n",
    "model.compile(loss='binary_crossentropy',optimizer='rmsprop',metrics=['accuracy'])\n",
    "print('Training model...')\n",
    "r = model.fit(\n",
    "    data, targets,batch_size=BATCH_SIZE,epochs=EPOCHS,\n",
    "    validation_split=VALIDATION_SPLIT\n",
    "    )"
   ]
  },
  {
   "cell_type": "code",
   "execution_count": 19,
   "id": "33cfba76-bc70-4609-ba75-c69484a38281",
   "metadata": {},
   "outputs": [
    {
     "data": {
      "image/png": "[encoded data removed]",
      "text/plain": [
       "<Figure size 640x480 with 1 Axes>"
      ]
     },
     "metadata": {},
     "output_type": "display_data"
    },
    {
     "data": {
      "image/png": "[encoded data removed]",
      "text/plain": [
       "<Figure size 640x480 with 1 Axes>"
      ]
     },
     "metadata": {},
     "output_type": "display_data"
    }
   ],
   "source": [
    "# plot some data\n",
    "plt.plot(r.history['loss'], label ='loss')\n",
    "plt.plot(r.history['val_loss'], label='val_loss')\n",
    "plt.legend()\n",
    "plt.show()\n",
    "\n",
    "# accuracies\n",
    "plt.plot(r.history['accuracy'], label='acc')\n",
    "plt.plot(r.history['val_accuracy'], label='val_acc')\n",
    "plt.legend()\n",
    "plt.show()"
   ]
  },
  {
   "cell_type": "code",
   "execution_count": 20,
   "id": "5f13fa38-d2ed-4951-abe4-59ad82992ed3",
   "metadata": {},
   "outputs": [
    {
     "name": "stdout",
     "output_type": "stream",
     "text": [
      "4987/4987 [==============================] - 1627s 326ms/step\n"
     ]
    }
   ],
   "source": [
    "p = model.predict(data)"
   ]
  },
  {
   "cell_type": "code",
   "execution_count": 29,
   "id": "9cdb9f34-0dad-4bcf-8245-e67b14ac840a",
   "metadata": {},
   "outputs": [
    {
     "name": "stdout",
     "output_type": "stream",
     "text": [
      "0.9771452289015162\n"
     ]
    }
   ],
   "source": [
    "# plot the mean AUC over each label\n",
    "aucs = []\n",
    "for j in range(6):\n",
    "    auc = roc_auc_score(targets[:,j],p[:,j])\n",
    "    aucs.append(auc)\n",
    "print(np.mean(aucs))"
   ]
  },
  {
   "cell_type": "code",
   "execution_count": null,
   "id": "f025cd3e-e95b-40c4-aae9-55d32a5d2f50",
   "metadata": {},
   "outputs": [],
   "source": []
  }
 ],
 "metadata": {
  "kernelspec": {
   "display_name": "Python 3 (ipykernel)",
   "language": "python",
   "name": "python3"
  },
  "language_info": {
   "codemirror_mode": {
    "name": "ipython",
    "version": 3
   },
   "file_extension": ".py",
   "mimetype": "text/x-python",
   "name": "python",
   "nbconvert_exporter": "python",
   "pygments_lexer": "ipython3",
   "version": "3.10.4"
  }
 },
 "nbformat": 4,
 "nbformat_minor": 5
}
